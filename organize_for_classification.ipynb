{
 "cells": [
  {
   "cell_type": "code",
   "execution_count": 2,
   "metadata": {},
   "outputs": [],
   "source": [
    "## get all files in /images/easy/\n",
    "import os\n",
    "import sys\n",
    "import shutil\n",
    "import random\n"
   ]
  },
  {
   "cell_type": "code",
   "execution_count": 4,
   "metadata": {},
   "outputs": [],
   "source": [
    "## get all files in /images/easy/\n",
    "def get_files():\n",
    "    files = []\n",
    "    for file in os.listdir(\"images/easy/\"):\n",
    "        font = file.split(\"_\")[0].lower()\n",
    "        dest_dir = \"dataset/\" + font\n",
    "        if not os.path.exists(dest_dir):\n",
    "            os.makedirs(dest_dir)\n",
    "        shutil.copy(\"images/easy/\" + file, dest_dir + \"/easy_\"+file)\n",
    "    for file in os.listdir(\"images/hard/hollow/\"):\n",
    "        font = file.split(\"_\")[0].lower()\n",
    "        if not os.path.exists(\"dataset/\" + font):\n",
    "            os.makedirs(\"dataset/\" + font)\n",
    "        dest_dir = \"dataset/\" + font\n",
    "        shutil.copy(\"images/hard/hollow/\" + file, dest_dir + \"/hardhollow_\" + file)\n",
    "    for file in os.listdir(\"images/hard/normal/\"):\n",
    "        font = file.split(\"_\")[0].lower()\n",
    "        if not os.path.exists(\"dataset/\" + font):\n",
    "            os.makedirs(\"dataset/\" + font)\n",
    "        dest_dir = \"dataset/\" + font\n",
    "        shutil.copy(\"images/hard/normal/\" + file, dest_dir + \"/hardnormal_\" + file)\n",
    "\n"
   ]
  },
  {
   "cell_type": "code",
   "execution_count": 5,
   "metadata": {},
   "outputs": [],
   "source": [
    "get_files() "
   ]
  },
  {
   "cell_type": "code",
   "execution_count": 6,
   "metadata": {},
   "outputs": [],
   "source": [
    "def get_easy_files():\n",
    "    for file in os.listdir(\"images/easy/\"):\n",
    "        font = file.split(\"_\")[0].lower()\n",
    "        dest_dir = \"dataset/\" + font\n",
    "        if not os.path.exists(dest_dir):\n",
    "            os.makedirs(dest_dir)\n",
    "        shutil.copy(\"images/easy/\" + file, dest_dir + \"/easy_\"+file)\n",
    "\n",
    "get_easy_files()"
   ]
  },
  {
   "cell_type": "code",
   "execution_count": 4,
   "metadata": {},
   "outputs": [],
   "source": [
    "def get_easy_files():\n",
    "    for file in os.listdir(\"images/bonus/green/\"):\n",
    "        font = file.split(\"_\")[0].lower()\n",
    "        dest_dir = \"dataset/\" + font\n",
    "        if not os.path.exists(dest_dir):\n",
    "            os.makedirs(dest_dir)\n",
    "        shutil.copy(\"images/bonus/green/\" + file, dest_dir + \"/green_\"+file)\n",
    "\n",
    "get_easy_files()"
   ]
  },
  {
   "cell_type": "code",
   "execution_count": 5,
   "metadata": {},
   "outputs": [],
   "source": [
    "def get_easy_files():\n",
    "    for file in os.listdir(\"images/bonus/red/\"):\n",
    "        font = file.split(\"_\")[0].lower()\n",
    "        dest_dir = \"dataset/\" + font\n",
    "        if not os.path.exists(dest_dir):\n",
    "            os.makedirs(dest_dir)\n",
    "        shutil.copy(\"images/bonus/red/\" + file, dest_dir + \"/red_\"+file)\n",
    "\n",
    "get_easy_files()"
   ]
  },
  {
   "cell_type": "code",
   "execution_count": null,
   "metadata": {},
   "outputs": [],
   "source": []
  }
 ],
 "metadata": {
  "kernelspec": {
   "display_name": "Python 3",
   "language": "python",
   "name": "python3"
  },
  "language_info": {
   "codemirror_mode": {
    "name": "ipython",
    "version": 3
   },
   "file_extension": ".py",
   "mimetype": "text/x-python",
   "name": "python",
   "nbconvert_exporter": "python",
   "pygments_lexer": "ipython3",
   "version": "3.12.9"
  }
 },
 "nbformat": 4,
 "nbformat_minor": 2
}
