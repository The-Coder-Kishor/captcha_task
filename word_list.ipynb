{
 "cells": [
  {
   "cell_type": "code",
   "execution_count": 1,
   "metadata": {},
   "outputs": [
    {
     "data": {
      "text/plain": [
       "['aahed',\n",
       " 'aahing',\n",
       " 'aahs',\n",
       " 'aalii',\n",
       " 'aaliis',\n",
       " 'aals',\n",
       " 'aani',\n",
       " 'aardvark',\n",
       " 'aardvarks',\n",
       " 'aardwolf']"
      ]
     },
     "execution_count": 1,
     "metadata": {},
     "output_type": "execute_result"
    }
   ],
   "source": [
    "import requests\n",
    "import random\n",
    "\n",
    "url = \"https://raw.githubusercontent.com/dwyl/english-words/refs/heads/master/words_alpha.txt\"\n",
    "response = requests.get(url)\n",
    "words = response.text.splitlines()  # Load each line into an array\n",
    "\n",
    "filtered_words = [word for word in words if len(word) >= 4]\n",
    "\n",
    "filtered_words[0:10]"
   ]
  },
  {
   "cell_type": "code",
   "execution_count": 2,
   "metadata": {},
   "outputs": [],
   "source": [
    "with open(\"custom_word_list.txt\", \"w\") as file:\n",
    "    for word in filtered_words:\n",
    "        file.write(word + \"\\n\")"
   ]
  },
  {
   "cell_type": "code",
   "execution_count": 3,
   "metadata": {},
   "outputs": [],
   "source": [
    "# seelct random 1000 words\n",
    "random.shuffle(filtered_words)\n",
    "\n",
    "with open(\"custom_word_list_1000.txt\", \"w\") as file:\n",
    "    for word in filtered_words[0:1000]:\n",
    "        file.write(word + \"\\n\")"
   ]
  },
  {
   "cell_type": "code",
   "execution_count": 6,
   "metadata": {},
   "outputs": [],
   "source": [
    "random.shuffle(filtered_words)\n",
    "custom_words = [word for word in filtered_words if len(word) >= 4 and len(word) <= 7]\n",
    "with open(\"custom_word_list_100.txt\", \"w\") as file:\n",
    "    for word in custom_words[0:100]:\n",
    "        file.write(word + \"\\n\")"
   ]
  }
 ],
 "metadata": {
  "kernelspec": {
   "display_name": "Python 3",
   "language": "python",
   "name": "python3"
  },
  "language_info": {
   "codemirror_mode": {
    "name": "ipython",
    "version": 3
   },
   "file_extension": ".py",
   "mimetype": "text/x-python",
   "name": "python",
   "nbconvert_exporter": "python",
   "pygments_lexer": "ipython3",
   "version": "3.12.9"
  }
 },
 "nbformat": 4,
 "nbformat_minor": 2
}
